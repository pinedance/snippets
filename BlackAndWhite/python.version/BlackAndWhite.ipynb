{
 "cells": [
  {
   "cell_type": "code",
   "execution_count": 1,
   "metadata": {},
   "outputs": [],
   "source": [
    "from PIL import ImageFilter\n",
    "from PIL import Image\n",
    "import numpy as np"
   ]
  },
  {
   "cell_type": "markdown",
   "metadata": {},
   "source": [
    "## Set Params "
   ]
  },
  {
   "cell_type": "code",
   "execution_count": 2,
   "metadata": {},
   "outputs": [],
   "source": [
    "file_path = \"before.jpg\"\n",
    "gaussian_blur_radius = 6"
   ]
  },
  {
   "cell_type": "markdown",
   "metadata": {},
   "source": [
    "## Open Image File"
   ]
  },
  {
   "cell_type": "code",
   "execution_count": 3,
   "metadata": {},
   "outputs": [],
   "source": [
    "# open image file\n",
    "im = Image.open( file_path )"
   ]
  },
  {
   "cell_type": "markdown",
   "metadata": {},
   "source": [
    "## Apply GaussianBlur Filter"
   ]
  },
  {
   "cell_type": "code",
   "execution_count": 4,
   "metadata": {},
   "outputs": [],
   "source": [
    "filter_bg = ImageFilter.GaussianBlur(radius=gaussian_blur_radius)\n",
    "im1 = im.filter( filter_bg )\n",
    "im1.show()"
   ]
  },
  {
   "cell_type": "markdown",
   "metadata": {},
   "source": [
    "## Distract Filtered Image"
   ]
  },
  {
   "cell_type": "code",
   "execution_count": 5,
   "metadata": {},
   "outputs": [],
   "source": [
    "q =  255 - np.array( im ) - np.array( im1 ) \n",
    "im2 = Image.fromarray( q )\n",
    "im2.show()"
   ]
  },
  {
   "cell_type": "markdown",
   "metadata": {},
   "source": [
    "## Remove Grayscale"
   ]
  },
  {
   "cell_type": "code",
   "execution_count": 6,
   "metadata": {},
   "outputs": [],
   "source": [
    "# Get the pixel from the given image\n",
    "def get_pixel(image, i, j):\n",
    "    # Inside image bounds?\n",
    "    width, height = image.size\n",
    "    if i > width or j > height:\n",
    "        return None\n",
    "\n",
    "    # Get Pixel\n",
    "    pixel = image.getpixel((i, j))\n",
    "    return pixel"
   ]
  },
  {
   "cell_type": "code",
   "execution_count": 7,
   "metadata": {},
   "outputs": [],
   "source": [
    "def remove_grayscale( image, cut_off = 128):\n",
    "    # Get size\n",
    "    width, height = image.size\n",
    "\n",
    "    # Create new Image and a Pixel Map\n",
    "    new = Image.new(\"RGB\", (width, height), \"white\")\n",
    "    pixels = new.load()\n",
    "\n",
    "    # Transform to grayscale\n",
    "    for i in range(width):\n",
    "        for j in range(height):\n",
    "             # Get Pixel\n",
    "            pixel = get_pixel( image, i, j )\n",
    "\n",
    "             # Get R, G, B values (This are int from 0 to 255)\n",
    "            red =   pixel[0]\n",
    "            green = pixel[1]\n",
    "            blue =  pixel[2]\n",
    "            gray = int( (red * 0.299) + (green * 0.587) + (blue * 0.114) )\n",
    "#             gray = int( sum( pixel ) / 3 )\n",
    "#             if red > cut_off or green > cut_off or blue > cut_off:\n",
    "            if gray > cut_off:\n",
    "                pixels[i, j] = ( 255, 255, 255 )\n",
    "            else:\n",
    "                pixels[i, j] = ( gray, gray, gray )\n",
    "            # Transform to grayscale\n",
    "            \n",
    "\n",
    "            # Set Pixel in new image\n",
    "            # pixels[i, j] = (int(gray), int(gray), int(gray))\n",
    "\n",
    "    # Return new image\n",
    "    return new"
   ]
  },
  {
   "cell_type": "code",
   "execution_count": 8,
   "metadata": {},
   "outputs": [],
   "source": [
    "im3 = remove_grayscale( im2, 128 )\n",
    "im3.show()"
   ]
  },
  {
   "cell_type": "code",
   "execution_count": 9,
   "metadata": {},
   "outputs": [],
   "source": [
    "im3.save( \"after.jpg\", \"JPEG\")"
   ]
  },
  {
   "cell_type": "markdown",
   "metadata": {},
   "source": [
    "## REF\n",
    "\n",
    "https://www.codementor.io/isaib.cicourel/image-manipulation-in-python-du1089j1u\n",
    "https://bab2min.tistory.com/620"
   ]
  }
 ],
 "metadata": {
  "kernelspec": {
   "display_name": "Python 3",
   "language": "python",
   "name": "python3"
  },
  "language_info": {
   "codemirror_mode": {
    "name": "ipython",
    "version": 3
   },
   "file_extension": ".py",
   "mimetype": "text/x-python",
   "name": "python",
   "nbconvert_exporter": "python",
   "pygments_lexer": "ipython3",
   "version": "3.6.6"
  }
 },
 "nbformat": 4,
 "nbformat_minor": 2
}
